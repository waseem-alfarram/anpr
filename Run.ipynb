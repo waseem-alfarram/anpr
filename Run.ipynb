{
 "cells": [
  {
   "cell_type": "code",
   "execution_count": null,
   "id": "2694fc1c",
   "metadata": {},
   "outputs": [],
   "source": [
    "from project.Preprocessor import preprocess\n",
    "from project.Predictor import extract_text\n",
    "from project.Model import predict\n",
    "import cv2"
   ]
  },
  {
   "cell_type": "code",
   "execution_count": null,
   "id": "f651f8aa",
   "metadata": {},
   "outputs": [],
   "source": [
    "image_path = \"license_plates/group1/001.jpg\""
   ]
  },
  {
   "cell_type": "code",
   "execution_count": null,
   "id": "78509ec0",
   "metadata": {},
   "outputs": [],
   "source": [
    "%matplotlib inline \n",
    "from matplotlib import pyplot as plt\n",
    "image = cv2.imread(image_path)\n",
    "plt.imshow(image, cmap='gray')\n",
    "plt.show()"
   ]
  },
  {
   "cell_type": "code",
   "execution_count": null,
   "id": "6d9a90d7",
   "metadata": {},
   "outputs": [],
   "source": [
    "results = predict(image)"
   ]
  },
  {
   "cell_type": "code",
   "execution_count": null,
   "id": "a4bfec63",
   "metadata": {},
   "outputs": [],
   "source": [
    "def crop_plate(image, box):\n",
    "    return image[box[1]:box[3], box[0]:box[2]]"
   ]
  },
  {
   "cell_type": "code",
   "execution_count": null,
   "id": "39c81250",
   "metadata": {},
   "outputs": [],
   "source": [
    "for box in results:\n",
    "    extra = crop_plate(image, box)\n",
    "    preprocessed = preprocess(extra,  target_height= 300, remove_noise=True ,only_edges=False)\n",
    "    plt.imshow(preprocessed, cmap='gray')\n",
    "    plt.show()\n",
    "    text = extract_text(preprocessed)\n",
    "    print(text)"
   ]
  },
  {
   "cell_type": "code",
   "execution_count": null,
   "id": "96c723e1",
   "metadata": {},
   "outputs": [],
   "source": []
  }
 ],
 "metadata": {
  "kernelspec": {
   "display_name": ".venv",
   "language": "python",
   "name": "python3"
  },
  "language_info": {
   "codemirror_mode": {
    "name": "ipython",
    "version": 3
   },
   "file_extension": ".py",
   "mimetype": "text/x-python",
   "name": "python",
   "nbconvert_exporter": "python",
   "pygments_lexer": "ipython3",
   "version": "3.9.13"
  }
 },
 "nbformat": 4,
 "nbformat_minor": 5
}
